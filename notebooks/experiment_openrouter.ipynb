{
 "cells": [
  {
   "cell_type": "markdown",
   "metadata": {},
   "source": [
    "# Prompt improved via OpenRouter"
   ]
  },
  {
   "cell_type": "code",
   "execution_count": 1,
   "metadata": {},
   "outputs": [
    {
     "name": "stderr",
     "output_type": "stream",
     "text": [
      "/home/ananasclassic/miniconda3/envs/qwen-lora/lib/python3.10/site-packages/tqdm/auto.py:21: TqdmWarning: IProgress not found. Please update jupyter and ipywidgets. See https://ipywidgets.readthedocs.io/en/stable/user_install.html\n",
      "  from .autonotebook import tqdm as notebook_tqdm\n"
     ]
    }
   ],
   "source": [
    "import os\n",
    "import requests\n",
    "from datasets import load_dataset\n",
    "from evaluate import load as load_metric\n",
    "from tqdm import tqdm\n",
    "from openai import OpenAI\n",
    "from concurrent.futures import ThreadPoolExecutor, as_completed"
   ]
  },
  {
   "cell_type": "code",
   "execution_count": 2,
   "metadata": {},
   "outputs": [],
   "source": [
    "LETTERS = [\"A\", \"B\", \"C\", \"D\", \"E\"]\n",
    "letter_map = {l: i + 1 for i, l in enumerate(LETTERS)}\n",
    "\n",
    "def encode_labels(labels):\n",
    "    return [letter_map.get(l, -1) for l in labels]\n",
    "\n",
    "def build_prompt(example: dict) -> str:\n",
    "    question = example[\"question\"].strip().rstrip(\"?.!\")\n",
    "    choices = example[\"choices\"][\"text\"]\n",
    "    lines = [f\"{question}?\", \"Please select the best answer from the options below:\"]\n",
    "    lines += [f\"{l}. {t}\" for l, t in zip(LETTERS, choices)]\n",
    "    return \"\\n\".join(lines)\n",
    "\n",
    "def extract_letter(raw_answer: str, example: dict) -> str:\n",
    "    raw_answer = raw_answer.strip().upper()\n",
    "    for ch in raw_answer:\n",
    "        if ch in LETTERS:\n",
    "            return ch\n",
    "    for idx, choice in enumerate(example[\"choices\"][\"text\"]):\n",
    "        if choice.lower() in raw_answer.lower():\n",
    "            return LETTERS[idx]\n",
    "    return \"?\""
   ]
  },
  {
   "cell_type": "code",
   "execution_count": 3,
   "metadata": {},
   "outputs": [],
   "source": [
    "with open('/home/ananasclassic/.secret/orak', 'r', encoding='utf-8') as f:\n",
    "    API_KEY = f.read().strip()\n",
    "client = OpenAI(base_url='https://openrouter.ai/api/v1', api_key=API_KEY)\n",
    "\n",
    "def openrouter_response(prompt: str) -> str:\n",
    "    completion = client.chat.completions.create(extra_body={}, model='meta-llama/llama-3.3-70b-instruct', messages=[{'role': 'user', 'content': prompt}])\n",
    "    return completion.choices[0].message.content\n",
    "\n",
    "def ask_llm(prompt: str) -> str:\n",
    "    return openrouter_response(prompt)"
   ]
  },
  {
   "cell_type": "code",
   "execution_count": 4,
   "metadata": {},
   "outputs": [],
   "source": [
    "\n",
    "EXPAND_MODEL   = \"deepseek/deepseek-r1-0528-qwen3-8b\"\n",
    "COMPRESS_MODEL = \"deepseek/deepseek-r1-0528-qwen3-8b\"\n",
    "\n",
    "client = OpenAI(\n",
    "    base_url=\"https://openrouter.ai/api/v1\",\n",
    "    api_key=API_KEY,\n",
    ")\n",
    "\n",
    "def expand_prompt(original_prompt: str) -> str:\n",
    "    system = {\n",
    "        \"role\": \"system\",\n",
    "        \"content\": (\n",
    "            \"You are an expert prompt architect. Your job is to take a USER prompt and \"\n",
    "            \"rewrite it to make it as detailed, unambiguous, and \"\n",
    "            \"structured as possible. Add the clarifying questions you would ask an LLM, \"\n",
    "            \"break the task down into subtasks, include style/format cues, evaluation criteria, and any useful context that can be gleaned (but never \"\n",
    "            \"change the original intent).\"\n",
    "            \"In response to a user prompt, write only an improved version of their prompt without any aditional text.\"\n",
    "        )\n",
    "    }\n",
    "    user = {\n",
    "        \"role\": \"user\",\n",
    "        \"content\": original_prompt\n",
    "    }\n",
    "    resp = client.chat.completions.create(\n",
    "        model=EXPAND_MODEL,\n",
    "        messages=[system, user],\n",
    "        temperature=0.3,\n",
    "        max_tokens=2500,\n",
    "        extra_body={\n",
    "            \"provider\": {\n",
    "                \"order\": [\"parasail/bf16\", \"novita\"],\n",
    "            }\n",
    "        }\n",
    "    )\n",
    "    return resp.choices[0].message.content.strip()\n",
    "\n",
    "def compress_prompt(detailed_prompt: str) -> str:\n",
    "    system = {\n",
    "        \"role\": \"system\",\n",
    "        \"content\": (\n",
    "            \"You are a prompt condenser. Your job is to distill the key information from a prompt and create a new prompt that is concise while retaining all \"\n",
    "            \"critical instructions, variables, constraints, and evaluation criteria. \"\n",
    "            \"Remove redundancy, make lists compact, and prefer numbered steps instead of long prose.\"\n",
    "            \"When a user prompts you, write only a condensed version of their prompt without any aditional text.\"\n",
    "        )\n",
    "    }\n",
    "    user = {\n",
    "        \"role\": \"user\",\n",
    "        \"content\": detailed_prompt\n",
    "    }\n",
    "    resp = client.chat.completions.create(\n",
    "        model=COMPRESS_MODEL,\n",
    "        messages=[system, user],\n",
    "        temperature=0.1,\n",
    "        max_tokens=2500,\n",
    "        extra_body={\n",
    "            \"provider\": {\n",
    "                \"order\": [\"parasail/bf16\", \"novita\"],\n",
    "            }\n",
    "        }\n",
    "    )\n",
    "    return resp.choices[0].message.content.strip()\n",
    "\n",
    "def improve(original_prompt: str) -> str:\n",
    "    detailed  = expand_prompt(original_prompt)\n",
    "    improved  = compress_prompt(detailed)\n",
    "    return improved + \"\\nYour answer must begin with the letter (A–E) corresponding to the correct option. This is important for the testing system.\"\n"
   ]
  },
  {
   "cell_type": "code",
   "execution_count": 5,
   "metadata": {},
   "outputs": [
    {
     "name": "stderr",
     "output_type": "stream",
     "text": [
      "Evaluating: 100%|██████████| 1221/1221 [15:24<00:00,  1.32it/s]"
     ]
    },
    {
     "name": "stdout",
     "output_type": "stream",
     "text": [
      "Accuracy: 68.141%\n"
     ]
    },
    {
     "name": "stderr",
     "output_type": "stream",
     "text": [
      "\n"
     ]
    }
   ],
   "source": [
    "N = -1\n",
    "ds = load_dataset('commonsense_qa', 'default', split='validation')\n",
    "metric = load_metric('accuracy')\n",
    "\n",
    "subset = ds if N == -1 else ds.select(range(N))\n",
    "\n",
    "def handle(example):\n",
    "    prompt = build_prompt(example)\n",
    "    if 'improve' in globals() and callable(improve):\n",
    "        prompt = improve(prompt)\n",
    "    raw = ask_llm(prompt)\n",
    "    letter = extract_letter(raw, example)\n",
    "    return letter, example['answerKey']\n",
    "\n",
    "preds, refs = [], []\n",
    "with ThreadPoolExecutor() as ex:\n",
    "    futures = [ex.submit(handle, exm) for exm in subset]\n",
    "    for f in tqdm(as_completed(futures), total=len(subset), desc='Evaluating'):\n",
    "        letter, ref = f.result()\n",
    "        preds.append(letter)\n",
    "        refs.append(ref)\n",
    "\n",
    "preds = encode_labels(preds)\n",
    "refs = encode_labels(refs)\n",
    "result = metric.compute(predictions=preds, references=refs)\n",
    "print(f'Accuracy: {result[\"accuracy\"]:.3%}')"
   ]
  },
  {
   "cell_type": "code",
   "execution_count": null,
   "id": "197de67e",
   "metadata": {},
   "outputs": [],
   "source": []
  }
 ],
 "metadata": {
  "kernelspec": {
   "display_name": "qwen-lora",
   "language": "python",
   "name": "python3"
  },
  "language_info": {
   "codemirror_mode": {
    "name": "ipython",
    "version": 3
   },
   "file_extension": ".py",
   "mimetype": "text/x-python",
   "name": "python",
   "nbconvert_exporter": "python",
   "pygments_lexer": "ipython3",
   "version": "3.10.16"
  }
 },
 "nbformat": 4,
 "nbformat_minor": 5
}
